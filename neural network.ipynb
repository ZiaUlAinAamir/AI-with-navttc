{
 "cells": [
  {
   "cell_type": "code",
   "execution_count": 71,
   "id": "e14ac00c-4a5b-4054-82eb-86b8e0d3b18d",
   "metadata": {},
   "outputs": [],
   "source": [
    "import numpy as np"
   ]
  },
  {
   "cell_type": "code",
   "execution_count": 73,
   "id": "2dd98e48-c75c-4eb9-85f7-865d8435be32",
   "metadata": {},
   "outputs": [],
   "source": [
    "def sig(x):\n",
    "    return 1/(1+np.exp(-x))"
   ]
  },
  {
   "cell_type": "code",
   "execution_count": 75,
   "id": "f63d58bd-8919-48e3-aeb2-d538ec8726e2",
   "metadata": {},
   "outputs": [
    {
     "data": {
      "text/plain": [
       "0.6637386974043528"
      ]
     },
     "execution_count": 75,
     "metadata": {},
     "output_type": "execute_result"
    }
   ],
   "source": [
    "sig(0.68)"
   ]
  },
  {
   "cell_type": "code",
   "execution_count": 79,
   "id": "6f0e14f3-ab91-4ebc-9086-a2c4325aa2fc",
   "metadata": {},
   "outputs": [
    {
     "data": {
      "text/plain": [
       "0.5646362918030292"
      ]
     },
     "execution_count": 79,
     "metadata": {},
     "output_type": "execute_result"
    }
   ],
   "source": [
    "sig(0.26)"
   ]
  },
  {
   "cell_type": "code",
   "execution_count": 83,
   "id": "7e6bd998-b2ed-4968-8273-b2c93e6cec32",
   "metadata": {},
   "outputs": [],
   "source": [
    "def binary_cross_entropy(y,p):\n",
    "     return - (y*np.log(p)+(1-y)*np.log(1-p))"
   ]
  },
  {
   "cell_type": "code",
   "execution_count": 87,
   "id": "fed77d39-c276-4372-9a83-ebad5dd50ee2",
   "metadata": {},
   "outputs": [
    {
     "data": {
      "text/plain": [
       "0.35667494393873245"
      ]
     },
     "execution_count": 87,
     "metadata": {},
     "output_type": "execute_result"
    }
   ],
   "source": [
    " binary_cross_entropy(1,0.7)"
   ]
  },
  {
   "cell_type": "code",
   "execution_count": 91,
   "id": "1b9e32a6-8bf9-4103-8539-5971a7217390",
   "metadata": {},
   "outputs": [],
   "source": [
    "def c_c_e(y,p):\n",
    "    return - np.sum(y * np.log(y_p))"
   ]
  },
  {
   "cell_type": "code",
   "execution_count": 99,
   "id": "7facf900-d904-414a-8d58-c2af22601482",
   "metadata": {},
   "outputs": [
    {
     "data": {
      "text/plain": [
       "0.35667494393873245"
      ]
     },
     "execution_count": 99,
     "metadata": {},
     "output_type": "execute_result"
    }
   ],
   "source": [
    "y=np.array([0,1,0])\n",
    "y_p=np.array([0.2,0.7,0.1])\n",
    "c_c_e(y,y_p)\n"
   ]
  },
  {
   "cell_type": "code",
   "execution_count": null,
   "id": "a042a573-bbef-46db-a115-2ab6cc592007",
   "metadata": {},
   "outputs": [],
   "source": []
  }
 ],
 "metadata": {
  "kernelspec": {
   "display_name": "Python 3 (ipykernel)",
   "language": "python",
   "name": "python3"
  },
  "language_info": {
   "codemirror_mode": {
    "name": "ipython",
    "version": 3
   },
   "file_extension": ".py",
   "mimetype": "text/x-python",
   "name": "python",
   "nbconvert_exporter": "python",
   "pygments_lexer": "ipython3",
   "version": "3.12.4"
  }
 },
 "nbformat": 4,
 "nbformat_minor": 5
}
