{
 "cells": [
  {
   "cell_type": "markdown",
   "id": "77fce26a-f87e-4a54-9e53-786b517e786f",
   "metadata": {},
   "source": [
    "## STATISTICS"
   ]
  },
  {
   "cell_type": "code",
   "execution_count": 28,
   "id": "5120fec1-188e-447f-ac50-32187c812e66",
   "metadata": {},
   "outputs": [],
   "source": [
    "## Mean - The average value\n",
    "## Median - The mid point value\n",
    "## Mode - The most common value\n"
   ]
  },
  {
   "cell_type": "code",
   "execution_count": 60,
   "id": "1c1da732-7adf-41aa-be99-9a29686063ff",
   "metadata": {},
   "outputs": [],
   "source": [
    "import numpy as np\n",
    "import matplotlib.pyplot as plt\n",
    "\n"
   ]
  },
  {
   "cell_type": "markdown",
   "id": "22e35b17-b776-41e1-a7da-078a5fc2e9ee",
   "metadata": {},
   "source": [
    "# Mean "
   ]
  },
  {
   "cell_type": "code",
   "execution_count": 62,
   "id": "d4fdd783-8c14-48b8-96a8-dc654c6adb10",
   "metadata": {},
   "outputs": [
    {
     "data": {
      "text/plain": [
       "89.76923076923077"
      ]
     },
     "execution_count": 62,
     "metadata": {},
     "output_type": "execute_result"
    }
   ],
   "source": [
    "numbers = [99,86,87,88,111,86,103,87,94,78,77,85,86]\n",
    "mean = np.mean(numbers)\n",
    "mean"
   ]
  },
  {
   "cell_type": "markdown",
   "id": "251eaf97-350c-4519-8c59-0e9f764bb5d6",
   "metadata": {},
   "source": [
    "# median"
   ]
  },
  {
   "cell_type": "code",
   "execution_count": 66,
   "id": "44d25497-fe28-40d4-9662-16e0de0e1d63",
   "metadata": {},
   "outputs": [
    {
     "data": {
      "text/plain": [
       "87.0"
      ]
     },
     "execution_count": 66,
     "metadata": {},
     "output_type": "execute_result"
    }
   ],
   "source": [
    "numbers = [99,86,87,88,111,86,103,87,94,78,77,85,86]\n",
    "median=np.median(numbers)\n",
    "median\n"
   ]
  },
  {
   "cell_type": "markdown",
   "id": "b26dbc1e-3e2f-45d3-a5f8-a13573a29e72",
   "metadata": {},
   "source": [
    "# mode"
   ]
  },
  {
   "cell_type": "code",
   "execution_count": 69,
   "id": "3e7b62e0-677f-411c-8ac8-a60adc7cba74",
   "metadata": {},
   "outputs": [
    {
     "name": "stdout",
     "output_type": "stream",
     "text": [
      "ModeResult(mode=86, count=3)\n"
     ]
    }
   ],
   "source": [
    "from scipy import stats\n",
    "speed = [99,86,87,88,111,86,103,87,94,78,77,85,86]\n",
    "x = stats.mode(speed)\n",
    "\n",
    "print(x)\n"
   ]
  },
  {
   "cell_type": "markdown",
   "id": "60eb09e5-2edd-4264-9350-2b45d5cfef65",
   "metadata": {},
   "source": [
    "# Standard deviation"
   ]
  },
  {
   "cell_type": "code",
   "execution_count": 44,
   "id": "90c91ec6-0bf6-4426-a7ee-bb9eef3c4f9b",
   "metadata": {},
   "outputs": [
    {
     "data": {
      "text/plain": [
       "0.9035079029052513"
      ]
     },
     "execution_count": 44,
     "metadata": {},
     "output_type": "execute_result"
    }
   ],
   "source": [
    "speed = [86,87,88,86,87,85,86]\n",
    "x = np.std(speed)\n",
    "x\n",
    "\n"
   ]
  },
  {
   "cell_type": "markdown",
   "id": "cf5a8201-7dbf-4cf0-b6df-2b919b039d07",
   "metadata": {},
   "source": [
    "# variance"
   ]
  },
  {
   "cell_type": "code",
   "execution_count": 49,
   "id": "c94d2ca7-b5e2-441b-a762-b657b8623ae3",
   "metadata": {},
   "outputs": [
    {
     "data": {
      "text/plain": [
       "0.8163265306122449"
      ]
     },
     "execution_count": 49,
     "metadata": {},
     "output_type": "execute_result"
    }
   ],
   "source": [
    "##Variance is another number that indicates how spread out the values are.\n",
    "speed = [86,87,88,86,87,85,86]\n",
    "x=np.var(speed)\n",
    "x"
   ]
  },
  {
   "cell_type": "markdown",
   "id": "e214ce97-34dd-4760-8c52-8e55deab8ad1",
   "metadata": {},
   "source": [
    "## Percentiles"
   ]
  },
  {
   "cell_type": "code",
   "execution_count": 53,
   "id": "aeda4177-0208-49f0-851f-cd43f6f83b93",
   "metadata": {},
   "outputs": [
    {
     "data": {
      "text/plain": [
       "43.0"
      ]
     },
     "execution_count": 53,
     "metadata": {},
     "output_type": "execute_result"
    }
   ],
   "source": [
    "## Percentiles are used in statistics to give you a number that describes the value that a given percent of the values are lower than.\n",
    "ages = [5,31,43,48,50,41,7,11,15,39,80,82,32,2,8,6,25,36,27,61,31]\n",
    "\n",
    "x = np.percentile(ages, 75)\n",
    "x\n"
   ]
  },
  {
   "cell_type": "markdown",
   "id": "59b010b4-8dde-40c2-aff5-24614fc093dd",
   "metadata": {},
   "source": [
    "## Data Distribution\n",
    "Create an array containing 250 random floats between 0 and 5\n"
   ]
  },
  {
   "cell_type": "code",
   "execution_count": 58,
   "id": "c4830de4-9dd7-46fb-97b2-2fec817028db",
   "metadata": {},
   "outputs": [
    {
     "data": {
      "text/plain": [
       "array([4.80252411e+00, 4.18209979e+00, 1.53786714e+00, 3.15524476e+00,\n",
       "       2.83487876e+00, 4.38425842e+00, 2.19460993e+00, 3.96984328e+00,\n",
       "       1.70541809e+00, 4.84409172e+00, 3.07548632e+00, 1.64633841e+00,\n",
       "       2.01351623e+00, 3.22950404e+00, 1.31631726e+00, 1.28095935e+00,\n",
       "       1.09418090e+00, 3.30169196e+00, 1.58404703e+00, 3.94059083e+00,\n",
       "       2.21506260e+00, 3.96085587e+00, 4.63475853e+00, 2.44667581e+00,\n",
       "       4.19952804e+00, 2.91113340e+00, 4.56720369e+00, 3.63132068e+00,\n",
       "       1.75854595e+00, 1.78561014e+00, 2.33091644e+00, 4.02470140e+00,\n",
       "       2.56232528e+00, 3.01579703e+00, 4.72476103e+00, 3.50404185e+00,\n",
       "       1.97592743e+00, 1.55972716e+00, 2.44231984e-01, 4.82955323e+00,\n",
       "       3.22829186e+00, 3.41464954e+00, 3.05694859e+00, 3.44034126e+00,\n",
       "       1.00373572e+00, 3.33776098e+00, 4.10545648e+00, 7.09520949e-01,\n",
       "       3.41435275e+00, 4.11628031e+00, 1.26449073e+00, 9.69641307e-01,\n",
       "       4.60919890e+00, 4.04192136e+00, 4.41219570e+00, 2.83929854e+00,\n",
       "       2.83822545e+00, 4.77445445e+00, 2.18274266e+00, 2.19124858e+00,\n",
       "       3.11453190e+00, 3.14520422e+00, 4.99821544e-01, 2.29203669e+00,\n",
       "       3.98766144e+00, 1.50835273e+00, 1.14127773e+00, 3.46571650e+00,\n",
       "       6.54433301e-01, 1.12907121e+00, 4.54453608e+00, 1.33166277e+00,\n",
       "       3.39072461e+00, 2.73528650e+00, 3.61647466e+00, 4.15836541e-01,\n",
       "       4.49969569e+00, 3.58783682e+00, 4.18591707e+00, 2.85522925e-01,\n",
       "       3.94685008e+00, 1.49973355e+00, 6.79075228e-01, 1.32950259e+00,\n",
       "       1.54102989e+00, 6.14339794e-01, 4.73842740e+00, 4.97981595e+00,\n",
       "       5.48087706e-01, 3.09954701e+00, 3.67253543e+00, 8.09761917e-01,\n",
       "       3.92896530e+00, 4.12129794e+00, 1.70205123e+00, 1.59365877e+00,\n",
       "       2.75201784e+00, 2.98819720e+00, 4.14727730e+00, 4.56637959e+00,\n",
       "       3.21414804e+00, 4.09085436e+00, 4.50646085e-01, 1.88527466e+00,\n",
       "       4.81250142e+00, 4.74068241e+00, 4.33325693e+00, 6.10458631e-01,\n",
       "       2.48472289e+00, 1.55522069e+00, 3.66518540e+00, 1.23241983e-01,\n",
       "       2.96212178e+00, 3.70979518e+00, 4.62226718e+00, 4.13688649e+00,\n",
       "       2.87615295e-01, 2.15361985e+00, 2.90352729e+00, 1.51834906e+00,\n",
       "       3.65027028e+00, 4.05657488e+00, 4.38965632e+00, 3.08598708e+00,\n",
       "       1.05373361e+00, 1.22784957e+00, 4.85101981e+00, 7.40044404e-01,\n",
       "       1.28834716e+00, 1.75825284e+00, 2.70304560e+00, 1.05199658e-03,\n",
       "       3.69640323e+00, 2.80366723e+00, 4.25509225e+00, 5.24194978e-01,\n",
       "       4.46898837e-01, 3.49089763e+00, 2.88549605e+00, 1.02840503e+00,\n",
       "       3.67894897e+00, 4.62140856e+00, 4.22698609e+00, 3.74317525e+00,\n",
       "       3.85712519e+00, 3.66855493e-01, 4.09654859e+00, 1.90283222e+00,\n",
       "       3.24578624e+00, 4.22593773e+00, 2.04170445e+00, 8.76855096e-01,\n",
       "       4.73467943e+00, 2.30300355e+00, 4.81775496e+00, 3.76540348e+00,\n",
       "       1.09713013e+00, 1.16228649e+00, 1.94070566e-01, 1.31908457e+00,\n",
       "       1.43106947e+00, 1.25967756e+00, 1.44522127e+00, 2.95652042e+00,\n",
       "       2.84869997e+00, 3.81602873e+00, 3.52289024e+00, 3.84869347e+00,\n",
       "       2.32639091e+00, 1.21627566e+00, 6.91300283e-01, 2.90599304e+00,\n",
       "       2.51347919e+00, 2.77122509e+00, 1.25065606e+00, 7.72206648e-01,\n",
       "       1.30497532e+00, 2.80992685e+00, 3.87129079e+00, 2.32489909e+00,\n",
       "       4.93785453e+00, 9.64103217e-01, 3.95521807e+00, 3.31882438e+00,\n",
       "       3.51320991e+00, 6.92566948e-01, 1.63507549e+00, 1.18035330e+00,\n",
       "       3.26031439e+00, 2.84466476e+00, 2.09310337e+00, 7.21607508e-01,\n",
       "       4.88082692e+00, 3.55006941e+00, 4.33393131e+00, 2.08608967e+00,\n",
       "       8.13754466e-01, 4.71475607e+00, 3.94545172e+00, 4.40196314e+00,\n",
       "       2.74980068e+00, 6.01504599e-01, 1.78146864e+00, 1.14434413e+00,\n",
       "       1.00818616e+00, 5.48283239e-01, 1.72124269e+00, 8.22907369e-01,\n",
       "       2.99701107e+00, 8.52901930e-01, 2.78164719e+00, 3.65164089e-01,\n",
       "       4.21760678e+00, 4.62080662e+00, 4.52720073e+00, 3.83241556e+00,\n",
       "       4.80473309e+00, 1.74449416e+00, 3.03055653e+00, 1.99618398e+00,\n",
       "       1.77284950e+00, 3.14265321e+00, 9.81221300e-01, 6.43174432e-01,\n",
       "       3.84450591e+00, 4.25159581e+00, 3.34555000e+00, 4.70765424e+00,\n",
       "       3.29740088e+00, 4.94773954e+00, 3.62373258e+00, 3.93644971e+00,\n",
       "       7.52718551e-01, 2.98502533e+00, 3.63027193e+00, 2.35965382e+00,\n",
       "       4.97624419e+00, 3.78354708e+00, 4.25085132e+00, 1.72519079e+00,\n",
       "       3.64323714e+00, 3.42023802e+00, 1.25384386e-01, 9.37281553e-02,\n",
       "       2.80305766e+00, 1.17559546e+00, 1.75350052e+00, 3.92857456e+00,\n",
       "       4.36128898e+00, 2.19212225e+00])"
      ]
     },
     "execution_count": 58,
     "metadata": {},
     "output_type": "execute_result"
    }
   ],
   "source": [
    "x = np.random.uniform(0.0, 5.0, 250)\n",
    "x"
   ]
  },
  {
   "cell_type": "code",
   "execution_count": null,
   "id": "a90b7400-2325-411f-b236-8bd9d8c14124",
   "metadata": {},
   "outputs": [],
   "source": []
  }
 ],
 "metadata": {
  "kernelspec": {
   "display_name": "Python 3 (ipykernel)",
   "language": "python",
   "name": "python3"
  },
  "language_info": {
   "codemirror_mode": {
    "name": "ipython",
    "version": 3
   },
   "file_extension": ".py",
   "mimetype": "text/x-python",
   "name": "python",
   "nbconvert_exporter": "python",
   "pygments_lexer": "ipython3",
   "version": "3.12.4"
  }
 },
 "nbformat": 4,
 "nbformat_minor": 5
}
