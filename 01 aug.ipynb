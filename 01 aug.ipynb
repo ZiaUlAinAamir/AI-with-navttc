{
 "cells": [
  {
   "cell_type": "markdown",
   "id": "ce249a3c-6efe-4eca-904a-5410bf904d90",
   "metadata": {},
   "source": [
    "# basic grouping and aggregation"
   ]
  },
  {
   "cell_type": "markdown",
   "id": "fac38cba-6e8b-4541-8667-97a4ce0d1dce",
   "metadata": {},
   "source": [
    "# task 1"
   ]
  },
  {
   "cell_type": "code",
   "execution_count": 49,
   "id": "3083859b-36cc-48f7-93fc-49c222632398",
   "metadata": {},
   "outputs": [
    {
     "name": "stdout",
     "output_type": "stream",
     "text": [
      "department\n",
      "Hr          6000.0\n",
      "IT         11000.0\n",
      "finance    17500.0\n",
      "hr         20000.0\n",
      "Name: salary, dtype: float64\n"
     ]
    }
   ],
   "source": [
    "import pandas as pd\n",
    "data={'department':['hr','finance','IT','Hr','finance','IT'],'salary':[20000,30000,15000,6000,5000,7000]}\n",
    "df=pd.DataFrame(data)\n",
    "avg_salary=(df.groupby('department')['salary']).mean()\n",
    "print(avg_salary)"
   ]
  },
  {
   "cell_type": "markdown",
   "id": "631e3e39-cfd9-480c-8187-f19bbc3ff9ca",
   "metadata": {},
   "source": [
    "# task 2"
   ]
  },
  {
   "cell_type": "code",
   "execution_count": 10,
   "id": "b909d6e5-a70c-425d-915f-6e82afcfdf62",
   "metadata": {},
   "outputs": [
    {
     "data": {
      "text/plain": [
       "city\n",
       "Islamabad    22000\n",
       "karachi      35000\n",
       "lahore       26000\n",
       "Name: population, dtype: int64"
      ]
     },
     "execution_count": 10,
     "metadata": {},
     "output_type": "execute_result"
    }
   ],
   "source": [
    "import pandas as pd\n",
    "data={'city':['lahore','karachi','Islamabad','lahore','karachi','Islamabad'],'population':[20000,30000,15000,6000,5000,7000]}\n",
    "df=pd.DataFrame(data)\n",
    "city_population=(df.groupby('city')['population']).sum()\n",
    "filtered_cities=city_population[city_population >6000]\n",
    "filtered_cities\n"
   ]
  },
  {
   "cell_type": "markdown",
   "id": "6e6609d3-4c7e-43b9-be75-fca91e0c3404",
   "metadata": {},
   "source": [
    "# task 3"
   ]
  },
  {
   "cell_type": "code",
   "execution_count": 17,
   "id": "2aab3884-6cad-4313-b6eb-66ecf7c04989",
   "metadata": {},
   "outputs": [
    {
     "data": {
      "text/html": [
       "<div>\n",
       "<style scoped>\n",
       "    .dataframe tbody tr th:only-of-type {\n",
       "        vertical-align: middle;\n",
       "    }\n",
       "\n",
       "    .dataframe tbody tr th {\n",
       "        vertical-align: top;\n",
       "    }\n",
       "\n",
       "    .dataframe thead th {\n",
       "        text-align: right;\n",
       "    }\n",
       "</style>\n",
       "<table border=\"1\" class=\"dataframe\">\n",
       "  <thead>\n",
       "    <tr style=\"text-align: right;\">\n",
       "      <th></th>\n",
       "      <th>total sales</th>\n",
       "      <th>average sales</th>\n",
       "    </tr>\n",
       "    <tr>\n",
       "      <th>product</th>\n",
       "      <th></th>\n",
       "      <th></th>\n",
       "    </tr>\n",
       "  </thead>\n",
       "  <tbody>\n",
       "    <tr>\n",
       "      <th>A</th>\n",
       "      <td>26000</td>\n",
       "      <td>13000.0</td>\n",
       "    </tr>\n",
       "    <tr>\n",
       "      <th>B</th>\n",
       "      <td>35000</td>\n",
       "      <td>17500.0</td>\n",
       "    </tr>\n",
       "    <tr>\n",
       "      <th>C</th>\n",
       "      <td>22000</td>\n",
       "      <td>11000.0</td>\n",
       "    </tr>\n",
       "  </tbody>\n",
       "</table>\n",
       "</div>"
      ],
      "text/plain": [
       "         total sales  average sales\n",
       "product                            \n",
       "A              26000        13000.0\n",
       "B              35000        17500.0\n",
       "C              22000        11000.0"
      ]
     },
     "execution_count": 17,
     "metadata": {},
     "output_type": "execute_result"
    }
   ],
   "source": [
    "import pandas as pd\n",
    "data={'product':['A','B','C','A','B','C'],'sales':[20000,30000,15000,6000,5000,7000]}\n",
    "df=pd.DataFrame(data)\n",
    "product_sales=(df.groupby('product')['sales']).agg (['sum','mean'])\n",
    "product_sales.columns=['total sales','average sales']\n",
    "product_sales\n"
   ]
  },
  {
   "cell_type": "markdown",
   "id": "9a2787d0-46cb-4461-9254-3f5511b4b8aa",
   "metadata": {},
   "source": [
    "# task 4"
   ]
  },
  {
   "cell_type": "code",
   "execution_count": 20,
   "id": "4186b59d-af22-413a-afff-ca952f20290f",
   "metadata": {},
   "outputs": [
    {
     "data": {
      "text/html": [
       "<div>\n",
       "<style scoped>\n",
       "    .dataframe tbody tr th:only-of-type {\n",
       "        vertical-align: middle;\n",
       "    }\n",
       "\n",
       "    .dataframe tbody tr th {\n",
       "        vertical-align: top;\n",
       "    }\n",
       "\n",
       "    .dataframe thead th {\n",
       "        text-align: right;\n",
       "    }\n",
       "</style>\n",
       "<table border=\"1\" class=\"dataframe\">\n",
       "  <thead>\n",
       "    <tr style=\"text-align: right;\">\n",
       "      <th></th>\n",
       "      <th>team</th>\n",
       "      <th>score</th>\n",
       "      <th>normalized_score</th>\n",
       "    </tr>\n",
       "  </thead>\n",
       "  <tbody>\n",
       "    <tr>\n",
       "      <th>0</th>\n",
       "      <td>A</td>\n",
       "      <td>29</td>\n",
       "      <td>-0.707107</td>\n",
       "    </tr>\n",
       "    <tr>\n",
       "      <th>1</th>\n",
       "      <td>B</td>\n",
       "      <td>30</td>\n",
       "      <td>-0.707107</td>\n",
       "    </tr>\n",
       "    <tr>\n",
       "      <th>2</th>\n",
       "      <td>C</td>\n",
       "      <td>90</td>\n",
       "      <td>0.707107</td>\n",
       "    </tr>\n",
       "    <tr>\n",
       "      <th>3</th>\n",
       "      <td>A</td>\n",
       "      <td>60</td>\n",
       "      <td>0.707107</td>\n",
       "    </tr>\n",
       "    <tr>\n",
       "      <th>4</th>\n",
       "      <td>B</td>\n",
       "      <td>50</td>\n",
       "      <td>0.707107</td>\n",
       "    </tr>\n",
       "    <tr>\n",
       "      <th>5</th>\n",
       "      <td>C</td>\n",
       "      <td>70</td>\n",
       "      <td>-0.707107</td>\n",
       "    </tr>\n",
       "  </tbody>\n",
       "</table>\n",
       "</div>"
      ],
      "text/plain": [
       "  team  score  normalized_score\n",
       "0    A     29         -0.707107\n",
       "1    B     30         -0.707107\n",
       "2    C     90          0.707107\n",
       "3    A     60          0.707107\n",
       "4    B     50          0.707107\n",
       "5    C     70         -0.707107"
      ]
     },
     "execution_count": 20,
     "metadata": {},
     "output_type": "execute_result"
    }
   ],
   "source": [
    "import pandas as pd\n",
    "data={'team':['A','B','C','A','B','C'],'score':[29,30,90,60,50,70]}\n",
    "df=pd.DataFrame(data)\n",
    "df['normalized_score']=df.groupby('team')['score'].transform(lambda x: (x-x.mean())/x.std())\n",
    "df\n"
   ]
  },
  {
   "cell_type": "markdown",
   "id": "f8f08cff-b907-439a-b1d1-7cc4326975a8",
   "metadata": {},
   "source": [
    "# task 5"
   ]
  },
  {
   "cell_type": "code",
   "execution_count": 45,
   "id": "b0151ae3-a810-471d-83dc-71a9fbae266e",
   "metadata": {},
   "outputs": [
    {
     "data": {
      "text/html": [
       "<div>\n",
       "<style scoped>\n",
       "    .dataframe tbody tr th:only-of-type {\n",
       "        vertical-align: middle;\n",
       "    }\n",
       "\n",
       "    .dataframe tbody tr th {\n",
       "        vertical-align: top;\n",
       "    }\n",
       "\n",
       "    .dataframe thead th {\n",
       "        text-align: right;\n",
       "    }\n",
       "</style>\n",
       "<table border=\"1\" class=\"dataframe\">\n",
       "  <thead>\n",
       "    <tr style=\"text-align: right;\">\n",
       "      <th></th>\n",
       "      <th>total amount</th>\n",
       "      <th>average amount</th>\n",
       "      <th>total count</th>\n",
       "      <th>max count</th>\n",
       "    </tr>\n",
       "    <tr>\n",
       "      <th>category</th>\n",
       "      <th></th>\n",
       "      <th></th>\n",
       "      <th></th>\n",
       "      <th></th>\n",
       "    </tr>\n",
       "  </thead>\n",
       "  <tbody>\n",
       "    <tr>\n",
       "      <th>clothing</th>\n",
       "      <td>37000</td>\n",
       "      <td>18500.0</td>\n",
       "      <td>4</td>\n",
       "      <td>2</td>\n",
       "    </tr>\n",
       "    <tr>\n",
       "      <th>electronics</th>\n",
       "      <td>26000</td>\n",
       "      <td>13000.0</td>\n",
       "      <td>3</td>\n",
       "      <td>2</td>\n",
       "    </tr>\n",
       "    <tr>\n",
       "      <th>furniture</th>\n",
       "      <td>20000</td>\n",
       "      <td>10000.0</td>\n",
       "      <td>2</td>\n",
       "      <td>1</td>\n",
       "    </tr>\n",
       "  </tbody>\n",
       "</table>\n",
       "</div>"
      ],
      "text/plain": [
       "             total amount  average amount  total count  max count\n",
       "category                                                         \n",
       "clothing            37000         18500.0            4          2\n",
       "electronics         26000         13000.0            3          2\n",
       "furniture           20000         10000.0            2          1"
      ]
     },
     "execution_count": 45,
     "metadata": {},
     "output_type": "execute_result"
    }
   ],
   "source": [
    "import pandas as pd\n",
    "data={'category':['electronics','clothing','furniture','electronics','furniture','clothing'],\n",
    "      'amount':[20000,30000,15000,6000,5000,7000]\n",
    "     ,'count':[1,2,1,2,1,2]}\n",
    "df=pd.DataFrame(data)\n",
    "aggregated_data=df.groupby('category').agg ({\n",
    "    'amount':['sum','mean'],\n",
    "    'count':['sum','max']\n",
    "})\n",
    "aggregated_data.columns=['total amount','average amount','total count','max count']\n",
    "aggregated_data"
   ]
  },
  {
   "cell_type": "code",
   "execution_count": null,
   "id": "66fa2577-7a99-4aa9-b336-762586f480fa",
   "metadata": {},
   "outputs": [],
   "source": []
  }
 ],
 "metadata": {
  "kernelspec": {
   "display_name": "Python 3 (ipykernel)",
   "language": "python",
   "name": "python3"
  },
  "language_info": {
   "codemirror_mode": {
    "name": "ipython",
    "version": 3
   },
   "file_extension": ".py",
   "mimetype": "text/x-python",
   "name": "python",
   "nbconvert_exporter": "python",
   "pygments_lexer": "ipython3",
   "version": "3.12.4"
  }
 },
 "nbformat": 4,
 "nbformat_minor": 5
}
