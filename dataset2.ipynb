{
 "cells": [
  {
   "cell_type": "code",
   "execution_count": null,
   "id": "2153e752-009d-49e1-9f53-1cab8db80743",
   "metadata": {},
   "outputs": [],
   "source": [
    "imort pandas as pd\n",
    "import nampy as np\n"
   ]
  }
 ],
 "metadata": {
  "kernelspec": {
   "display_name": "Python 3 (ipykernel)",
   "language": "python",
   "name": "python3"
  },
  "language_info": {
   "codemirror_mode": {
    "name": "ipython",
    "version": 3
   },
   "file_extension": ".py",
   "mimetype": "text/x-python",
   "name": "python",
   "nbconvert_exporter": "python",
   "pygments_lexer": "ipython3",
   "version": "3.12.4"
  }
 },
 "nbformat": 4,
 "nbformat_minor": 5
}
