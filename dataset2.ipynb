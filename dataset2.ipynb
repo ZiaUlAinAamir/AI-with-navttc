{
 "cells": [
  {
   "cell_type": "code",
   "execution_count": null,
   "id": "44fd9a46-7f0d-4836-a4d6-57774acb17d1",
   "metadata": {},
   "outputs": [],
   "source": [
    "import pandas as pd\n",
    "inport numpy as np\n",
    "import matpoly"
   ]
  }
 ],
 "metadata": {
  "kernelspec": {
   "display_name": "Python 3 (ipykernel)",
   "language": "python",
   "name": "python3"
  },
  "language_info": {
   "codemirror_mode": {
    "name": "ipython",
    "version": 3
   },
   "file_extension": ".py",
   "mimetype": "text/x-python",
   "name": "python",
   "nbconvert_exporter": "python",
   "pygments_lexer": "ipython3",
   "version": "3.12.4"
  }
 },
 "nbformat": 4,
 "nbformat_minor": 5
}
