{
 "cells": [
  {
   "cell_type": "code",
   "execution_count": 11,
   "id": "ab5d34e7-097f-4576-99d5-2c43dec671b4",
   "metadata": {},
   "outputs": [],
   "source": [
    "import pandas as pd\n",
    "from sklearn.cluster import KMeans, DBSCAN\n",
    "from sklearn.mixture import GaussianMixture\n",
    "import matplotlib.pyplot as plt\n",
    "import seaborn as sns"
   ]
  },
  {
   "cell_type": "code",
   "execution_count": 13,
   "id": "34054ea8-7b93-4c69-8dad-d6db38099cee",
   "metadata": {},
   "outputs": [],
   "source": [
    "# Sample data\n",
    "data = {\n",
    "    'CustomerID': [1, 2, 3, 4, 5, 6, 7, 8, 9, 10],\n",
    "    'Age': [19, 21, 20, 23, 31, 22, 35, 40, 50, 60],\n",
    "    'Annual Income (k$)': [15, 15, 16, 16, 17, 17, 18, 20, 40, 50],\n",
    "    'Spending Score (1-100)': [39, 81, 6, 77, 40, 76, 6, 94, 3, 50]\n",
    "}"
   ]
  },
  {
   "cell_type": "code",
   "execution_count": 21,
   "id": "9413c549-0413-4972-8607-f8cf1182fcaf",
   "metadata": {},
   "outputs": [],
   "source": [
    "# Create DataFrame\n",
    "df = pd.DataFrame(data)"
   ]
  },
  {
   "cell_type": "code",
   "execution_count": 23,
   "id": "54c1def9-5a91-4adc-94ff-4601670e55b5",
   "metadata": {},
   "outputs": [],
   "source": [
    "# Features for clustering (dropping CustomerID as it's not useful for clustering)\n",
    "X = df[['Age', 'Annual Income (k$)', 'Spending Score (1-100)']]\n"
   ]
  },
  {
   "cell_type": "code",
   "execution_count": 25,
   "id": "6d3bb10a-7649-4562-b29e-d3cffdd0ba8f",
   "metadata": {},
   "outputs": [],
   "source": [
    "# Define clustering models\n",
    "clustering_models = {\n",
    "    \"KMeans\": KMeans(n_clusters=3, random_state=42),\n",
    "    \"DBSCAN\": DBSCAN(),\n",
    "    \"Gaussian Mixture Model (GMM)\": GaussianMixture(n_components=3, random_state=42)\n",
    "}\n"
   ]
  },
  {
   "cell_type": "code",
   "execution_count": 27,
   "id": "424877da-3c0f-46c2-9d34-d2714aee2062",
   "metadata": {},
   "outputs": [
    {
     "name": "stderr",
     "output_type": "stream",
     "text": [
      "D:\\anaconda\\Lib\\site-packages\\sklearn\\cluster\\_kmeans.py:1446: UserWarning: KMeans is known to have a memory leak on Windows with MKL, when there are less chunks than available threads. You can avoid it by setting the environment variable OMP_NUM_THREADS=1.\n",
      "  warnings.warn(\n",
      "D:\\anaconda\\Lib\\site-packages\\sklearn\\cluster\\_kmeans.py:1446: UserWarning: KMeans is known to have a memory leak on Windows with MKL, when there are less chunks than available threads. You can avoid it by setting the environment variable OMP_NUM_THREADS=1.\n",
      "  warnings.warn(\n"
     ]
    }
   ],
   "source": [
    "# Apply each clustering model\n",
    "for model_name, model in clustering_models.items():\n",
    "    if model_name == \"Gaussian Mixture Model (GMM)\":\n",
    "        df[model_name] = model.fit_predict(X)\n",
    "    else:\n",
    "        df[model_name] = model.fit_predict(X)\n"
   ]
  },
  {
   "cell_type": "code",
   "execution_count": 31,
   "id": "f45dde34-7de3-4f42-aafd-bc7e91b2b6b8",
   "metadata": {},
   "outputs": [
    {
     "name": "stdout",
     "output_type": "stream",
     "text": [
      "   CustomerID  Age  Annual Income (k$)  Spending Score (1-100)  KMeans  \\\n",
      "0           1   19                  15                      39       2   \n",
      "1           2   21                  15                      81       0   \n",
      "2           3   20                  16                       6       2   \n",
      "3           4   23                  16                      77       0   \n",
      "4           5   31                  17                      40       2   \n",
      "5           6   22                  17                      76       0   \n",
      "6           7   35                  18                       6       2   \n",
      "7           8   40                  20                      94       0   \n",
      "8           9   50                  40                       3       1   \n",
      "9          10   60                  50                      50       1   \n",
      "\n",
      "   DBSCAN  Gaussian Mixture Model (GMM)  \n",
      "0      -1                             2  \n",
      "1      -1                             0  \n",
      "2      -1                             2  \n",
      "3      -1                             0  \n",
      "4      -1                             2  \n",
      "5      -1                             0  \n",
      "6      -1                             2  \n",
      "7      -1                             0  \n",
      "8      -1                             1  \n",
      "9      -1                             1  \n"
     ]
    }
   ],
   "source": [
    "# Display the DataFrame with cluster labels\n",
    "print(df)\n"
   ]
  },
  {
   "cell_type": "code",
   "execution_count": 33,
   "id": "3ab534e2-7bf2-49b5-b9e4-3553650770cb",
   "metadata": {},
   "outputs": [
    {
     "name": "stdout",
     "output_type": "stream",
     "text": [
      "                              Silhouette Score  Davies-Bouldin Index\n",
      "KMeans                                0.463124              0.865877\n",
      "DBSCAN                                     NaN                   NaN\n",
      "Gaussian Mixture Model (GMM)          0.463124              0.865877\n"
     ]
    },
    {
     "name": "stderr",
     "output_type": "stream",
     "text": [
      "D:\\anaconda\\Lib\\site-packages\\sklearn\\cluster\\_kmeans.py:1446: UserWarning: KMeans is known to have a memory leak on Windows with MKL, when there are less chunks than available threads. You can avoid it by setting the environment variable OMP_NUM_THREADS=1.\n",
      "  warnings.warn(\n",
      "D:\\anaconda\\Lib\\site-packages\\sklearn\\cluster\\_kmeans.py:1446: UserWarning: KMeans is known to have a memory leak on Windows with MKL, when there are less chunks than available threads. You can avoid it by setting the environment variable OMP_NUM_THREADS=1.\n",
      "  warnings.warn(\n"
     ]
    }
   ],
   "source": [
    "from sklearn.metrics import silhouette_score, davies_bouldin_score\n",
    "import numpy as np\n",
    "\n",
    "# Function to calculate evaluation metrics\n",
    "def evaluate_clustering(X, labels):\n",
    "    silhouette_avg = silhouette_score(X, labels)\n",
    "    davies_bouldin_avg = davies_bouldin_score(X, labels)\n",
    "    return silhouette_avg, davies_bouldin_avg\n",
    "\n",
    "# Dictionary to store evaluation results\n",
    "evaluation_results = {}\n",
    "\n",
    "# Evaluate each model\n",
    "for model_name, model in clustering_models.items():\n",
    "    if model_name == \"DBSCAN\":\n",
    "        labels = model.fit_predict(X)\n",
    "        # DBSCAN might return -1 for noise points; handle this case\n",
    "        if len(set(labels)) > 1:  # At least two clusters are needed for silhouette score\n",
    "            silhouette_avg, davies_bouldin_avg = evaluate_clustering(X, labels)\n",
    "            evaluation_results[model_name] = {\n",
    "                'Silhouette Score': silhouette_avg,\n",
    "                'Davies-Bouldin Index': davies_bouldin_avg\n",
    "            }\n",
    "        else:\n",
    "            evaluation_results[model_name] = {\n",
    "                'Silhouette Score': np.nan,\n",
    "                'Davies-Bouldin Index': np.nan\n",
    "            }\n",
    "    else:\n",
    "        labels = model.fit_predict(X)\n",
    "        silhouette_avg, davies_bouldin_avg = evaluate_clustering(X, labels)\n",
    "        evaluation_results[model_name] = {\n",
    "            'Silhouette Score': silhouette_avg,\n",
    "            'Davies-Bouldin Index': davies_bouldin_avg\n",
    "        }\n",
    "\n",
    "# Display evaluation results\n",
    "evaluation_df = pd.DataFrame(evaluation_results).T\n",
    "print(evaluation_df)\n"
   ]
  },
  {
   "cell_type": "code",
   "execution_count": 41,
   "id": "f7ccace7-1e9a-4805-9329-ceb3ea6bceb3",
   "metadata": {},
   "outputs": [
    {
     "data": {
      "image/png": "[encoded data removed]",
      "text/plain": [
       "<Figure size 1000x600 with 1 Axes>"
      ]
     },
     "metadata": {},
     "output_type": "display_data"
    }
   ],
   "source": [
    "# Visualize the KMeans clusters\n",
    "plt.figure(figsize=(10, 6))\n",
    "sns.scatterplot(x='Annual Income (k$)', y='Spending Score (1-100)', hue='KMeans', data=df, palette='viridis', s=100)\n",
    "plt.title('Culstring')\n",
    "plt.xlabel('Annual Income (k$)')\n",
    "plt.ylabel('Spending Score (1-100)')\n",
    "plt.show()"
   ]
  },
  {
   "cell_type": "code",
   "execution_count": null,
   "id": "edbf5563-b43a-41e0-a5c5-c75be040563e",
   "metadata": {},
   "outputs": [],
   "source": []
  }
 ],
 "metadata": {
  "kernelspec": {
   "display_name": "Python 3 (ipykernel)",
   "language": "python",
   "name": "python3"
  },
  "language_info": {
   "codemirror_mode": {
    "name": "ipython",
    "version": 3
   },
   "file_extension": ".py",
   "mimetype": "text/x-python",
   "name": "python",
   "nbconvert_exporter": "python",
   "pygments_lexer": "ipython3",
   "version": "3.12.4"
  }
 },
 "nbformat": 4,
 "nbformat_minor": 5
}
