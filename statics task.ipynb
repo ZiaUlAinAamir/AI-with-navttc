{
 "cells": [
  {
   "cell_type": "markdown",
   "id": "b0d104eb-bde0-47db-ab0a-94ced2f77abe",
   "metadata": {},
   "source": [
    "# task 1"
   ]
  },
  {
   "cell_type": "markdown",
   "id": "0b891ad0-979b-47b8-ace9-e2735932a7d8",
   "metadata": {},
   "source": [
    "1.\t##Calculate the\n",
    "2.\tMean\n",
    "3.\tMedian\n",
    "4.\tMode\n",
    "\n",
    "# mean"
   ]
  },
  {
   "cell_type": "code",
   "execution_count": 13,
   "id": "c2e334bc-3104-4f7f-9d1c-4e643e593706",
   "metadata": {},
   "outputs": [
    {
     "data": {
      "text/plain": [
       "49.4"
      ]
     },
     "execution_count": 13,
     "metadata": {},
     "output_type": "execute_result"
    }
   ],
   "source": [
    "import numpy as np\n",
    "data= [23, 45, 67, 23, 45, 89, 23, 56, 78, 45]\n",
    "x=np.mean(data)\n",
    "x"
   ]
  },
  {
   "cell_type": "markdown",
   "id": "d0367c1b-39cb-4d9f-b21f-69a9664b7013",
   "metadata": {},
   "source": [
    "## mode"
   ]
  },
  {
   "cell_type": "code",
   "execution_count": 27,
   "id": "3588ebf0-43c8-4132-b7d6-2ac6d9d7993c",
   "metadata": {},
   "outputs": [
    {
     "name": "stdout",
     "output_type": "stream",
     "text": [
      "ModeResult(mode=23, count=3)\n"
     ]
    }
   ],
   "source": [
    "from scipy import stats\n",
    "speed = [23, 45, 67, 23, 45, 89, 23, 56, 78, 45]\n",
    "x = stats.mode(speed)\n",
    "\n",
    "print(x)"
   ]
  },
  {
   "cell_type": "markdown",
   "id": "d881a5be-2103-457d-8657-4e34ad8eb864",
   "metadata": {},
   "source": [
    "# median"
   ]
  },
  {
   "cell_type": "code",
   "execution_count": 32,
   "id": "fc05faa2-f1bf-48fc-b646-767a086ec19e",
   "metadata": {},
   "outputs": [
    {
     "data": {
      "text/plain": [
       "45.0"
      ]
     },
     "execution_count": 32,
     "metadata": {},
     "output_type": "execute_result"
    }
   ],
   "source": [
    "data= [23, 45, 67, 23, 45, 89, 23, 56, 78, 45]\n",
    "x=np.median(data)\n",
    "x"
   ]
  },
  {
   "cell_type": "markdown",
   "id": "c3f37d3a-7fbb-4e7d-bafd-9ab2feb339de",
   "metadata": {},
   "source": [
    "# standard deviation"
   ]
  },
  {
   "cell_type": "code",
   "execution_count": 34,
   "id": "f8946c12-4a77-490b-b8ea-6b71d9f37e8b",
   "metadata": {},
   "outputs": [
    {
     "data": {
      "text/plain": [
       "7.61309291112813"
      ]
     },
     "execution_count": 34,
     "metadata": {},
     "output_type": "execute_result"
    }
   ],
   "source": [
    "data =[12, 15, 18, 22, 25, 30, 35]\n",
    "x=np.std(data)\n",
    "x"
   ]
  },
  {
   "cell_type": "markdown",
   "id": "59bb5b97-6ea3-4aaa-84dd-62ea45ac476d",
   "metadata": {},
   "source": [
    "# variance"
   ]
  },
  {
   "cell_type": "code",
   "execution_count": 38,
   "id": "161b2322-f92d-4ab9-b615-b4a97a1c88b4",
   "metadata": {},
   "outputs": [
    {
     "data": {
      "text/plain": [
       "57.95918367346939"
      ]
     },
     "execution_count": 38,
     "metadata": {},
     "output_type": "execute_result"
    }
   ],
   "source": [
    "data =[12, 15, 18, 22, 25, 30, 35]\n",
    "x=np.var(data)\n",
    "x"
   ]
  },
  {
   "cell_type": "markdown",
   "id": "a3a1f228-860e-4ce1-961a-7965f27f6142",
   "metadata": {},
   "source": [
    "## Percentiles Calculation\n"
   ]
  },
  {
   "cell_type": "code",
   "execution_count": 49,
   "id": "5b5a4c85-d0b8-4c56-a875-5e911e5a5d5e",
   "metadata": {},
   "outputs": [
    {
     "data": {
      "text/plain": [
       "72.5"
      ]
     },
     "execution_count": 49,
     "metadata": {},
     "output_type": "execute_result"
    }
   ],
   "source": [
    "data= [50, 60, 70, 80, 90, 100, 110, 120, 130, 140]\n",
    "x = np.percentile(data, 25)\n",
    "x\n",
    "\n"
   ]
  },
  {
   "cell_type": "code",
   "execution_count": 51,
   "id": "f6ef14d3-525b-4005-82ee-8e167989f89d",
   "metadata": {},
   "outputs": [
    {
     "data": {
      "text/plain": [
       "95.0"
      ]
     },
     "execution_count": 51,
     "metadata": {},
     "output_type": "execute_result"
    }
   ],
   "source": [
    "data= [50, 60, 70, 80, 90, 100, 110, 120, 130, 140]\n",
    "x = np.percentile(data, 50)\n",
    "x"
   ]
  },
  {
   "cell_type": "code",
   "execution_count": 53,
   "id": "e6e3adb1-e5f9-4654-9996-ba33c992c2ea",
   "metadata": {},
   "outputs": [
    {
     "data": {
      "text/plain": [
       "117.5"
      ]
     },
     "execution_count": 53,
     "metadata": {},
     "output_type": "execute_result"
    }
   ],
   "source": [
    "data= [50, 60, 70, 80, 90, 100, 110, 120, 130, 140]\n",
    "x = np.percentile(data, 75)\n",
    "x"
   ]
  },
  {
   "cell_type": "markdown",
   "id": "12753762-4205-4aaa-b3aa-acf2614ca37e",
   "metadata": {},
   "source": [
    "4.\t## Data Distribution Visualization"
   ]
  },
  {
   "cell_type": "code",
   "execution_count": 60,
   "id": "ab4ca73d-b03f-4358-b13e-92c479b9786f",
   "metadata": {},
   "outputs": [
    {
     "data": {
      "image/png": "[encoded data removed]",
      "text/plain": [
       "<Figure size 640x480 with 1 Axes>"
      ]
     },
     "metadata": {},
     "output_type": "display_data"
    }
   ],
   "source": [
    "import matplotlib.pyplot as plt\n",
    "data=[1,2,3,4,5,1,2,3,4,5,6,7,3,4,5,6,6,7,7,8,9,0,6,5,4,3,3,2,1,2,3,4,5,6,7,8,9,0,8,7,6,5,6,7,8,7,8,8,8,9,2,3,2,5,3,4,5,6,7,9,7]\n",
    "plt.hist(x, 9,)\n",
    "plt.show()\n",
    "\n"
   ]
  },
  {
   "cell_type": "markdown",
   "id": "a65711ce-4281-415e-8b2e-a1a3e4e967c0",
   "metadata": {},
   "source": [
    "# identify Outliers"
   ]
  },
  {
   "cell_type": "code",
   "execution_count": 69,
   "id": "cc6bde2e-3121-4f8e-a968-50572eb04de6",
   "metadata": {},
   "outputs": [
    {
     "data": {
      "text/plain": [
       "(27.92149709453274, 16.3)"
      ]
     },
     "execution_count": 69,
     "metadata": {},
     "output_type": "execute_result"
    }
   ],
   "source": [
    "data=[5, 7, 8, 7, 6, 100, 9, 8, 7, 6]\n",
    "x=np.std(data)\n",
    "y=np.mean(data)\n",
    "x,y"
   ]
  },
  {
   "cell_type": "markdown",
   "id": "1fe38108-19b1-4bd4-8416-77a324295fef",
   "metadata": {},
   "source": [
    "# Create and Analyze a Box Plot"
   ]
  },
  {
   "cell_type": "code",
   "execution_count": 76,
   "id": "ac0fe6eb-6eba-4ac7-9795-8898e0ea59af",
   "metadata": {},
   "outputs": [
    {
     "data": {
      "image/png": "[encoded data removed]",
      "text/plain": [
       "<Figure size 640x480 with 1 Axes>"
      ]
     },
     "metadata": {},
     "output_type": "display_data"
    }
   ],
   "source": [
    "Data=[45, 50, 55, 60, 65, 70, 75, 80, 85, 90]\n",
    "plt.hist(data, 5)\n",
    "plt.show()"
   ]
  },
  {
   "cell_type": "markdown",
   "id": "39878b18-ffca-4948-835b-c336b01d1123",
   "metadata": {},
   "source": [
    "7.\t# Calculate and Interpret Quartiles"
   ]
  },
  {
   "cell_type": "code",
   "execution_count": 106,
   "id": "71f2b9ed-18aa-4e23-a55e-2979bdebdad9",
   "metadata": {},
   "outputs": [
    {
     "data": {
      "text/plain": [
       "10.5"
      ]
     },
     "execution_count": 106,
     "metadata": {},
     "output_type": "execute_result"
    }
   ],
   "source": [
    "data=[7, 8, 10, 12, 14, 16, 18, 20, 22, 24]\n",
    "x=np.percentile(data,25)\n",
    "x\n"
   ]
  },
  {
   "cell_type": "code",
   "execution_count": 108,
   "id": "6411f861-ef49-4588-b248-689aad0642d4",
   "metadata": {},
   "outputs": [
    {
     "data": {
      "text/plain": [
       "15.0"
      ]
     },
     "execution_count": 108,
     "metadata": {},
     "output_type": "execute_result"
    }
   ],
   "source": [
    "data=[7, 8, 10, 12, 14, 16, 18, 20, 22, 24]\n",
    "x=np.percentile(data,50)\n",
    "x"
   ]
  },
  {
   "cell_type": "code",
   "execution_count": 110,
   "id": "8563a775-e6cc-4e9b-9dfe-60a6c9da4ee2",
   "metadata": {},
   "outputs": [
    {
     "data": {
      "text/plain": [
       "19.5"
      ]
     },
     "execution_count": 110,
     "metadata": {},
     "output_type": "execute_result"
    }
   ],
   "source": [
    "data=[7, 8, 10, 12, 14, 16, 18, 20, 22, 24]\n",
    "x=np.percentile(data,75)\n",
    "x"
   ]
  },
  {
   "cell_type": "code",
   "execution_count": 112,
   "id": "ab0d95c3-37a7-464b-a80e-aa576de89fa3",
   "metadata": {},
   "outputs": [
    {
     "data": {
      "text/plain": [
       "22.2"
      ]
     },
     "execution_count": 112,
     "metadata": {},
     "output_type": "execute_result"
    }
   ],
   "source": [
    "data=[7, 8, 10, 12, 14, 16, 18, 20, 22, 24]\n",
    "x=np.percentile(data,90)\n",
    "x"
   ]
  },
  {
   "cell_type": "markdown",
   "id": "2ca0e02e-5537-451a-90c3-dc43701c4533",
   "metadata": {},
   "source": [
    "#\tGenerate a Random Dataset and Analyze"
   ]
  },
  {
   "cell_type": "code",
   "execution_count": 84,
   "id": "ff500f3c-c71a-412d-bd4f-98149377f559",
   "metadata": {},
   "outputs": [
    {
     "data": {
      "text/plain": [
       "54.0"
      ]
     },
     "execution_count": 84,
     "metadata": {},
     "output_type": "execute_result"
    }
   ],
   "source": [
    "data=[1,2,34,2,5,64,6,77,85,86,4,89,3,90,57,96,67,87,67,5,75,56,45,5,6,56,65,66,69,23,56,34,37,54,54,59,56,4,54,6,5]\n",
    "x=np.median(data)\n",
    "x"
   ]
  },
  {
   "cell_type": "code",
   "execution_count": 98,
   "id": "af659632-afd3-463f-af2d-08f08f14f1d4",
   "metadata": {},
   "outputs": [
    {
     "data": {
      "text/plain": [
       "ModeResult(mode=5, count=4)"
      ]
     },
     "execution_count": 98,
     "metadata": {},
     "output_type": "execute_result"
    }
   ],
   "source": [
    "from scipy import stats\n",
    "x=stats.mode(data)\n",
    "x"
   ]
  },
  {
   "cell_type": "code",
   "execution_count": 100,
   "id": "134420c7-d656-473a-a8c3-55b2c2821f19",
   "metadata": {},
   "outputs": [
    {
     "data": {
      "text/plain": [
       "971.4741225461036"
      ]
     },
     "execution_count": 100,
     "metadata": {},
     "output_type": "execute_result"
    }
   ],
   "source": [
    "x=np.var(data)\n",
    "x"
   ]
  },
  {
   "cell_type": "code",
   "execution_count": 102,
   "id": "2ce38ff0-9622-40be-8ae9-a536f62a85a5",
   "metadata": {},
   "outputs": [
    {
     "data": {
      "text/plain": [
       "31.168479631610257"
      ]
     },
     "execution_count": 102,
     "metadata": {},
     "output_type": "execute_result"
    }
   ],
   "source": [
    "x=np.std(data)\n",
    "x"
   ]
  },
  {
   "cell_type": "code",
   "execution_count": null,
   "id": "f6b43b3d-bd2d-497b-8321-d6577cf0b026",
   "metadata": {},
   "outputs": [],
   "source": []
  }
 ],
 "metadata": {
  "kernelspec": {
   "display_name": "Python 3 (ipykernel)",
   "language": "python",
   "name": "python3"
  },
  "language_info": {
   "codemirror_mode": {
    "name": "ipython",
    "version": 3
   },
   "file_extension": ".py",
   "mimetype": "text/x-python",
   "name": "python",
   "nbconvert_exporter": "python",
   "pygments_lexer": "ipython3",
   "version": "3.12.4"
  }
 },
 "nbformat": 4,
 "nbformat_minor": 5
}
